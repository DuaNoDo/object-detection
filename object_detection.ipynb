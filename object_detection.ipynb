{
  "nbformat": 4,
  "nbformat_minor": 0,
  "metadata": {
    "colab": {
      "name": "object_detection.ipynb",
      "provenance": [],
      "collapsed_sections": [],
      "toc_visible": true
    },
    "kernelspec": {
      "name": "python3",
      "display_name": "Python 3"
    },
    "accelerator": "GPU"
  },
  "cells": [
    {
      "cell_type": "markdown",
      "metadata": {
        "id": "5VJzdkvIaiIn"
      },
      "source": [
        "# 항공영상에서 객체탐지를 위한 학습시키기"
      ]
    },
    {
      "cell_type": "markdown",
      "metadata": {
        "id": "nTbSzB0Wh6dG"
      },
      "source": [
        "작성자:   건국대학교 신기술융합학과 석사과정 김혜진\\\n",
        "수정자:   건국대학교 신기술융합학과 석사과정 원태연\n",
        "\n",
        "작성일자: 2019-10-04\\\n",
        "수정일자: 2021-03-15\n",
        "\n",
        "\n",
        "목표:     누구나 객체탐지를 쉽게 할 수 있다.\n",
        "\n",
        "자세한 내용은 [여기서](https://github.com/DuaNoDo/object-detection) 보기 \n"
      ]
    },
    {
      "cell_type": "markdown",
      "metadata": {
        "id": "v2INnb4CaFtH"
      },
      "source": [
        "## 소스코드 다운로드"
      ]
    },
    {
      "cell_type": "code",
      "metadata": {
        "id": "SpUeauaHXeI_"
      },
      "source": [
        "# google drive 마운트 \n",
        "\n",
        "from google.colab import drive\n",
        "drive.mount('/content/drive')"
      ],
      "execution_count": null,
      "outputs": []
    },
    {
      "cell_type": "code",
      "metadata": {
        "id": "LT69DyRUETAY"
      },
      "source": [
        "# 아나콘다 설치\n",
        "!wget -c https://repo.continuum.io/archive/Anaconda3-5.1.0-Linux-x86_64.sh\n",
        "!bash ./Anaconda3-5.1.0-Linux-x86_64.sh -b -f -p /usr/local"
      ],
      "execution_count": null,
      "outputs": []
    },
    {
      "cell_type": "code",
      "metadata": {
        "id": "dpIerHpT6U-k"
      },
      "source": [
        "#학습에 필요한 tensorflow-gpu를 설치 중간에 y 엔터 눌러줘야함\r\n",
        "!conda install -c anaconda tensorflow-gpu==1.15.0\r\n"
      ],
      "execution_count": null,
      "outputs": []
    },
    {
      "cell_type": "code",
      "metadata": {
        "id": "lda9sakpXewg"
      },
      "source": [
        "# 현재 경로 확인\n",
        "!pwd"
      ],
      "execution_count": null,
      "outputs": []
    },
    {
      "cell_type": "markdown",
      "metadata": {
        "id": "OcXYhnqoHxJt"
      },
      "source": [
        ""
      ]
    },
    {
      "cell_type": "code",
      "metadata": {
        "id": "HDtVcP8oXmTP"
      },
      "source": [
        "# 경로 변경\n",
        "\n",
        "%cd drive/My Drive/"
      ],
      "execution_count": null,
      "outputs": []
    },
    {
      "cell_type": "code",
      "metadata": {
        "id": "8QjPIzZoXw1G"
      },
      "source": [
        "# 소스코드 다운로드\n",
        "\n",
        "!git clone https://github.com/DuaNoDo/object-detection.git"
      ],
      "execution_count": null,
      "outputs": []
    },
    {
      "cell_type": "code",
      "metadata": {
        "id": "xjkMd5-SZppm"
      },
      "source": [
        "# 경로 변경\n",
        "\n",
        "%cd object-detection"
      ],
      "execution_count": null,
      "outputs": []
    },
    {
      "cell_type": "code",
      "metadata": {
        "id": "X1BApZvPX08n"
      },
      "source": [
        "# coco weight 파일 다운로드 \n",
        "\n",
        "!wget https://github.com/matterport/Mask_RCNN/releases/download/v1.0/mask_rcnn_coco.h5"
      ],
      "execution_count": null,
      "outputs": []
    },
    {
      "cell_type": "markdown",
      "metadata": {
        "id": "H-VUXR0hab5w"
      },
      "source": [
        "## 실험 환경 구성"
      ]
    },
    {
      "cell_type": "code",
      "metadata": {
        "id": "zy75iPiaZVAG"
      },
      "source": [
        "# 필수 라이브러리 설치\n",
        "!pip install -r requirements_gpu.txt\n"
      ],
      "execution_count": null,
      "outputs": []
    },
    {
      "cell_type": "code",
      "metadata": {
        "id": "bqLyPHQ3CHIZ"
      },
      "source": [
        "!pip install keras==2.2.4"
      ],
      "execution_count": null,
      "outputs": []
    },
    {
      "cell_type": "markdown",
      "metadata": {
        "id": "PSGxuCNYa51I"
      },
      "source": [
        "## 데이터셋 준비"
      ]
    },
    {
      "cell_type": "markdown",
      "metadata": {
        "id": "DTSdMOZ5gB5e"
      },
      "source": [
        "구글 드라이브에 데이터 셋 업로드하기\n",
        "\n",
        "/drive/My Drive/object_detection/dataset 폴더에 train, val, test 폴더를 구성해 놓습니다.\n",
        "\n",
        "\n",
        "\n",
        "왼쪽 파일 탭의 **새로고침** 후 계속 진행합니다."
      ]
    },
    {
      "cell_type": "markdown",
      "metadata": {
        "id": "VmDE_lUcbMv-"
      },
      "source": [
        "## 학습"
      ]
    },
    {
      "cell_type": "code",
      "metadata": {
        "id": "re6DmLaqbOgm"
      },
      "source": [
        "# 경로 변경 \n",
        "%cd code"
      ],
      "execution_count": null,
      "outputs": []
    },
    {
      "cell_type": "code",
      "metadata": {
        "id": "cBBSkcD7bZgm"
      },
      "source": [
        "# 학습 시작\n",
        "!python train.py train --dataset=../dataset/ --weights=coco"
      ],
      "execution_count": null,
      "outputs": []
    },
    {
      "cell_type": "markdown",
      "metadata": {
        "id": "sAHXNF3RgO3P"
      },
      "source": [
        "## 예측"
      ]
    },
    {
      "cell_type": "code",
      "metadata": {
        "id": "S2Ny7bwSgQMA"
      },
      "source": [
        "# object_time 폴더 명 설정 하고 실행하세요!!!!!!!!!!!!!!!!!!!!!!!!!!!!!!!!!!!!!\n",
        "\n",
        "!python predict.py --dataset=../dataset/ --weights=logs/object_time/mask_rcnn_object_0030.h5\n",
        "\n",
        "# 예시 !python predict.py --dataset=../dataset/ --weights=logs/object20210315T1306/mask_rcnn_object_0002.h5"
      ],
      "execution_count": null,
      "outputs": []
    },
    {
      "cell_type": "markdown",
      "metadata": {
        "id": "3BJ9PrLlg2Mf"
      },
      "source": [
        "예측 완료되면 dataset/test 폴더에 '**이미지명_detect.png**' 파일들이 생성됩니다."
      ]
    },
    {
      "cell_type": "markdown",
      "metadata": {
        "id": "AlcBS_C-hEPG"
      },
      "source": [
        "## 성능 평가"
      ]
    },
    {
      "cell_type": "code",
      "metadata": {
        "id": "kk_YijmLhGCV"
      },
      "source": [
        "# object_time 폴더 명 설정 하고 실행하세요!!!!!!!!!!!!!!!!!!!!!!!!!!!!!!!!!!!!!\n",
        "\n",
        "!python evaluate.py --dataset=../dataset/ --weights=logs/object_time/mask_rcnn_object_0030.h5\n",
        "\n",
        "# !python evaluate.py --dataset=../dataset/ --weights=logs/object20210315T1306/mask_rcnn_object_0002.h5"
      ],
      "execution_count": null,
      "outputs": []
    },
    {
      "cell_type": "markdown",
      "metadata": {
        "id": "cchcgG8fhXAW"
      },
      "source": [
        "평가가 완료되면 mAP % 수치가 프린트 됩니다."
      ]
    }
  ]
}